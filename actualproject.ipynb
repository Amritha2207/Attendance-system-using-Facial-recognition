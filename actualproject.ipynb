{
 "cells": [
  {
   "cell_type": "code",
   "execution_count": null,
   "id": "243d8d99",
   "metadata": {
    "papermill": {
     "duration": 0.003433,
     "end_time": "2023-10-16T10:19:03.472186",
     "exception": false,
     "start_time": "2023-10-16T10:19:03.468753",
     "status": "completed"
    },
    "tags": []
   },
   "outputs": [],
   "source": []
  },
  {
   "cell_type": "code",
   "execution_count": 1,
   "id": "4a087e00",
   "metadata": {
    "execution": {
     "iopub.execute_input": "2023-10-16T10:19:03.480010Z",
     "iopub.status.busy": "2023-10-16T10:19:03.479679Z",
     "iopub.status.idle": "2023-10-16T10:19:12.386116Z",
     "shell.execute_reply": "2023-10-16T10:19:12.385166Z"
    },
    "papermill": {
     "duration": 8.913219,
     "end_time": "2023-10-16T10:19:12.388465",
     "exception": false,
     "start_time": "2023-10-16T10:19:03.475246",
     "status": "completed"
    },
    "tags": []
   },
   "outputs": [
    {
     "name": "stderr",
     "output_type": "stream",
     "text": [
      "/opt/conda/lib/python3.10/site-packages/scipy/__init__.py:146: UserWarning: A NumPy version >=1.16.5 and <1.23.0 is required for this version of SciPy (detected version 1.23.5\n",
      "  warnings.warn(f\"A NumPy version >={np_minversion} and <{np_maxversion}\"\n"
     ]
    }
   ],
   "source": [
    "import os\n",
    "import pandas as pd\n",
    "import numpy as np\n",
    "from tensorflow.keras.applications import ResNet50\n",
    "from tensorflow.keras.applications.resnet50 import preprocess_input\n",
    "from tensorflow.keras.preprocessing import image\n",
    "from sklearn.model_selection import train_test_split\n",
    "from sklearn.svm import SVC\n",
    "from sklearn.metrics import accuracy_score, precision_score, recall_score, f1_score, confusion_matrix\n"
   ]
  },
  {
   "cell_type": "code",
   "execution_count": 2,
   "id": "9a38133a",
   "metadata": {
    "execution": {
     "iopub.execute_input": "2023-10-16T10:19:12.396213Z",
     "iopub.status.busy": "2023-10-16T10:19:12.395687Z",
     "iopub.status.idle": "2023-10-16T10:19:12.674425Z",
     "shell.execute_reply": "2023-10-16T10:19:12.673443Z"
    },
    "papermill": {
     "duration": 0.284866,
     "end_time": "2023-10-16T10:19:12.676578",
     "exception": false,
     "start_time": "2023-10-16T10:19:12.391712",
     "status": "completed"
    },
    "tags": []
   },
   "outputs": [],
   "source": [
    "df = pd.read_excel('/kaggle/input/regitrsernumber/dataset.xlsx')"
   ]
  },
  {
   "cell_type": "code",
   "execution_count": 3,
   "id": "1bb39b2d",
   "metadata": {
    "execution": {
     "iopub.execute_input": "2023-10-16T10:19:12.684775Z",
     "iopub.status.busy": "2023-10-16T10:19:12.683910Z",
     "iopub.status.idle": "2023-10-16T10:19:18.334842Z",
     "shell.execute_reply": "2023-10-16T10:19:18.333914Z"
    },
    "papermill": {
     "duration": 5.657075,
     "end_time": "2023-10-16T10:19:18.336995",
     "exception": false,
     "start_time": "2023-10-16T10:19:12.679920",
     "status": "completed"
    },
    "tags": []
   },
   "outputs": [],
   "source": [
    "image_directory = '/kaggle/input/images/Images_dataset'  # Replace with the actual path to your image dataset\n",
    "model = ResNet50(weights='/kaggle/input/resnet50-weights/resnet50_weights_tf_dim_ordering_tf_kernels_notop.h5', include_top=False, pooling='avg')\n"
   ]
  },
  {
   "cell_type": "code",
   "execution_count": 4,
   "id": "89266aca",
   "metadata": {
    "execution": {
     "iopub.execute_input": "2023-10-16T10:19:18.344499Z",
     "iopub.status.busy": "2023-10-16T10:19:18.344224Z",
     "iopub.status.idle": "2023-10-16T10:19:18.348172Z",
     "shell.execute_reply": "2023-10-16T10:19:18.347184Z"
    },
    "papermill": {
     "duration": 0.009646,
     "end_time": "2023-10-16T10:19:18.349899",
     "exception": false,
     "start_time": "2023-10-16T10:19:18.340253",
     "status": "completed"
    },
    "tags": []
   },
   "outputs": [],
   "source": [
    "# model1 = \"/kaggle/input/resnet50-weights/resnet50_weights_tf_dim_ordering_tf_kernels_notop.h5\""
   ]
  },
  {
   "cell_type": "code",
   "execution_count": 5,
   "id": "af9bbc0c",
   "metadata": {
    "execution": {
     "iopub.execute_input": "2023-10-16T10:19:18.356944Z",
     "iopub.status.busy": "2023-10-16T10:19:18.356608Z",
     "iopub.status.idle": "2023-10-16T10:19:18.360340Z",
     "shell.execute_reply": "2023-10-16T10:19:18.359394Z"
    },
    "papermill": {
     "duration": 0.009163,
     "end_time": "2023-10-16T10:19:18.361930",
     "exception": false,
     "start_time": "2023-10-16T10:19:18.352767",
     "status": "completed"
    },
    "tags": []
   },
   "outputs": [],
   "source": [
    "features_list = []\n",
    "labels = []"
   ]
  },
  {
   "cell_type": "code",
   "execution_count": 6,
   "id": "21caf314",
   "metadata": {
    "execution": {
     "iopub.execute_input": "2023-10-16T10:19:18.368750Z",
     "iopub.status.busy": "2023-10-16T10:19:18.368516Z",
     "iopub.status.idle": "2023-10-16T10:19:30.379990Z",
     "shell.execute_reply": "2023-10-16T10:19:30.379056Z"
    },
    "papermill": {
     "duration": 12.017085,
     "end_time": "2023-10-16T10:19:30.381891",
     "exception": false,
     "start_time": "2023-10-16T10:19:18.364806",
     "status": "completed"
    },
    "tags": []
   },
   "outputs": [
    {
     "name": "stdout",
     "output_type": "stream",
     "text": [
      "1/1 [==============================] - 7s 7s/step\n",
      "1/1 [==============================] - 0s 23ms/step\n",
      "1/1 [==============================] - 0s 23ms/step\n",
      "1/1 [==============================] - 0s 23ms/step\n",
      "1/1 [==============================] - 0s 22ms/step\n",
      "1/1 [==============================] - 0s 22ms/step\n",
      "1/1 [==============================] - 0s 22ms/step\n",
      "1/1 [==============================] - 0s 22ms/step\n",
      "1/1 [==============================] - 0s 23ms/step\n",
      "1/1 [==============================] - 0s 22ms/step\n",
      "1/1 [==============================] - 0s 22ms/step\n",
      "1/1 [==============================] - 0s 24ms/step\n",
      "1/1 [==============================] - 0s 21ms/step\n",
      "1/1 [==============================] - 0s 22ms/step\n",
      "1/1 [==============================] - 0s 22ms/step\n",
      "1/1 [==============================] - 0s 23ms/step\n",
      "1/1 [==============================] - 0s 21ms/step\n",
      "1/1 [==============================] - 0s 21ms/step\n",
      "1/1 [==============================] - 0s 22ms/step\n",
      "1/1 [==============================] - 0s 22ms/step\n",
      "1/1 [==============================] - 0s 21ms/step\n",
      "1/1 [==============================] - 0s 22ms/step\n",
      "1/1 [==============================] - 0s 23ms/step\n",
      "1/1 [==============================] - 0s 22ms/step\n",
      "1/1 [==============================] - 0s 24ms/step\n",
      "1/1 [==============================] - 0s 21ms/step\n",
      "1/1 [==============================] - 0s 27ms/step\n",
      "1/1 [==============================] - 0s 21ms/step\n",
      "1/1 [==============================] - 0s 22ms/step\n",
      "1/1 [==============================] - 0s 21ms/step\n",
      "1/1 [==============================] - 0s 22ms/step\n",
      "1/1 [==============================] - 0s 22ms/step\n",
      "1/1 [==============================] - 0s 22ms/step\n",
      "1/1 [==============================] - 0s 21ms/step\n",
      "1/1 [==============================] - 0s 22ms/step\n",
      "1/1 [==============================] - 0s 21ms/step\n",
      "1/1 [==============================] - 0s 22ms/step\n",
      "1/1 [==============================] - 0s 22ms/step\n",
      "1/1 [==============================] - 0s 23ms/step\n",
      "1/1 [==============================] - 0s 21ms/step\n",
      "1/1 [==============================] - 0s 40ms/step\n",
      "1/1 [==============================] - 0s 22ms/step\n",
      "1/1 [==============================] - 0s 22ms/step\n",
      "1/1 [==============================] - 0s 22ms/step\n",
      "1/1 [==============================] - 0s 21ms/step\n",
      "1/1 [==============================] - 0s 21ms/step\n",
      "1/1 [==============================] - 0s 22ms/step\n",
      "1/1 [==============================] - 0s 21ms/step\n",
      "1/1 [==============================] - 0s 21ms/step\n",
      "1/1 [==============================] - 0s 22ms/step\n",
      "1/1 [==============================] - 0s 22ms/step\n",
      "1/1 [==============================] - 0s 21ms/step\n",
      "1/1 [==============================] - 0s 22ms/step\n",
      "1/1 [==============================] - 0s 21ms/step\n",
      "1/1 [==============================] - 0s 22ms/step\n",
      "1/1 [==============================] - 0s 22ms/step\n",
      "1/1 [==============================] - 0s 21ms/step\n",
      "1/1 [==============================] - 0s 21ms/step\n",
      "1/1 [==============================] - 0s 22ms/step\n",
      "1/1 [==============================] - 0s 23ms/step\n",
      "1/1 [==============================] - 0s 22ms/step\n",
      "1/1 [==============================] - 0s 22ms/step\n",
      "1/1 [==============================] - 0s 23ms/step\n",
      "1/1 [==============================] - 0s 21ms/step\n",
      "1/1 [==============================] - 0s 21ms/step\n",
      "1/1 [==============================] - 0s 21ms/step\n",
      "1/1 [==============================] - 0s 21ms/step\n"
     ]
    }
   ],
   "source": [
    "for index, row in df.iterrows():\n",
    "    image_no = row['Image']  # Replace 'Image' with the actual column name containing image numbers\n",
    "    gender = row['Gender']  # Replace 'Gender' with the actual column name containing gender\n",
    "    roll_no = row['Roll no']  # Replace 'Roll no' with the actual column name containing roll numbers\n",
    "    name = row['Name']  # Replace 'Name' with the actual column name containing names\n",
    "\n",
    "    # Construct the image file path based on 'image_no' and 'image_directory'\n",
    "    image_path = os.path.join(image_directory, f\"{image_no}.jpg\")\n",
    "\n",
    "    # Load and preprocess the image\n",
    "    img = image.load_img(image_path, target_size=(224, 224))  # Adjust the target size as needed\n",
    "    img = image.img_to_array(img)\n",
    "    img = np.expand_dims(img, axis=0)\n",
    "    img = preprocess_input(img)\n",
    "\n",
    "    # Extract features\n",
    "    features = model.predict(img)\n",
    "\n",
    "    # Append the features and labels to the respective lists\n",
    "    features_list.append(features)\n",
    "    labels.append(gender)  # You can use 'gender' as the label\n"
   ]
  },
  {
   "cell_type": "code",
   "execution_count": 7,
   "id": "a6d0ad41",
   "metadata": {
    "execution": {
     "iopub.execute_input": "2023-10-16T10:19:30.400860Z",
     "iopub.status.busy": "2023-10-16T10:19:30.400582Z",
     "iopub.status.idle": "2023-10-16T10:19:30.405157Z",
     "shell.execute_reply": "2023-10-16T10:19:30.404361Z"
    },
    "papermill": {
     "duration": 0.015576,
     "end_time": "2023-10-16T10:19:30.406793",
     "exception": false,
     "start_time": "2023-10-16T10:19:30.391217",
     "status": "completed"
    },
    "tags": []
   },
   "outputs": [],
   "source": [
    "X = np.vstack(features_list)\n",
    "y = np.array(labels)\n"
   ]
  },
  {
   "cell_type": "code",
   "execution_count": 8,
   "id": "695e7a87",
   "metadata": {
    "execution": {
     "iopub.execute_input": "2023-10-16T10:19:30.425433Z",
     "iopub.status.busy": "2023-10-16T10:19:30.424777Z",
     "iopub.status.idle": "2023-10-16T10:19:30.430771Z",
     "shell.execute_reply": "2023-10-16T10:19:30.429999Z"
    },
    "papermill": {
     "duration": 0.016882,
     "end_time": "2023-10-16T10:19:30.432435",
     "exception": false,
     "start_time": "2023-10-16T10:19:30.415553",
     "status": "completed"
    },
    "tags": []
   },
   "outputs": [],
   "source": [
    "X_train, X_test, y_train, y_test = train_test_split(X, y, test_size=0.2, random_state=42)\n"
   ]
  },
  {
   "cell_type": "code",
   "execution_count": 9,
   "id": "87d11bba",
   "metadata": {
    "execution": {
     "iopub.execute_input": "2023-10-16T10:19:30.450209Z",
     "iopub.status.busy": "2023-10-16T10:19:30.449958Z",
     "iopub.status.idle": "2023-10-16T10:19:30.459614Z",
     "shell.execute_reply": "2023-10-16T10:19:30.458814Z"
    },
    "papermill": {
     "duration": 0.020573,
     "end_time": "2023-10-16T10:19:30.461298",
     "exception": false,
     "start_time": "2023-10-16T10:19:30.440725",
     "status": "completed"
    },
    "tags": []
   },
   "outputs": [],
   "source": [
    "svm_classifier = SVC()\n",
    "svm_classifier.fit(X_train, y_train)\n",
    "\n",
    "# Calculate predictions\n",
    "y_pred = svm_classifier.predict(X_test)"
   ]
  },
  {
   "cell_type": "code",
   "execution_count": 10,
   "id": "d3143f17",
   "metadata": {
    "execution": {
     "iopub.execute_input": "2023-10-16T10:19:30.478971Z",
     "iopub.status.busy": "2023-10-16T10:19:30.478716Z",
     "iopub.status.idle": "2023-10-16T10:19:30.484587Z",
     "shell.execute_reply": "2023-10-16T10:19:30.483757Z"
    },
    "papermill": {
     "duration": 0.016643,
     "end_time": "2023-10-16T10:19:30.486301",
     "exception": false,
     "start_time": "2023-10-16T10:19:30.469658",
     "status": "completed"
    },
    "tags": []
   },
   "outputs": [
    {
     "name": "stdout",
     "output_type": "stream",
     "text": [
      "Accuracy: 71.43%\n"
     ]
    }
   ],
   "source": [
    "accuracy = accuracy_score(y_test, y_pred)\n",
    "print(f'Accuracy: {accuracy * 100:.2f}%')\n"
   ]
  },
  {
   "cell_type": "code",
   "execution_count": 11,
   "id": "44abd55f",
   "metadata": {
    "execution": {
     "iopub.execute_input": "2023-10-16T10:19:30.504456Z",
     "iopub.status.busy": "2023-10-16T10:19:30.503946Z",
     "iopub.status.idle": "2023-10-16T10:19:30.513697Z",
     "shell.execute_reply": "2023-10-16T10:19:30.512861Z"
    },
    "papermill": {
     "duration": 0.020735,
     "end_time": "2023-10-16T10:19:30.515444",
     "exception": false,
     "start_time": "2023-10-16T10:19:30.494709",
     "status": "completed"
    },
    "tags": []
   },
   "outputs": [],
   "source": [
    "precision = precision_score(y_test, y_pred, average='weighted')\n",
    "recall = recall_score(y_test, y_pred, average='weighted')\n",
    "f1 = f1_score(y_test, y_pred, average='weighted')\n"
   ]
  },
  {
   "cell_type": "code",
   "execution_count": 12,
   "id": "9c619f37",
   "metadata": {
    "execution": {
     "iopub.execute_input": "2023-10-16T10:19:30.534214Z",
     "iopub.status.busy": "2023-10-16T10:19:30.533939Z",
     "iopub.status.idle": "2023-10-16T10:19:30.538770Z",
     "shell.execute_reply": "2023-10-16T10:19:30.537877Z"
    },
    "papermill": {
     "duration": 0.01593,
     "end_time": "2023-10-16T10:19:30.540489",
     "exception": false,
     "start_time": "2023-10-16T10:19:30.524559",
     "status": "completed"
    },
    "tags": []
   },
   "outputs": [
    {
     "name": "stdout",
     "output_type": "stream",
     "text": [
      "Precision: 80.22%\n",
      "Recall: 71.43%\n",
      "F1-Score: 64.50%\n"
     ]
    }
   ],
   "source": [
    "print(f'Precision: {precision * 100:.2f}%')\n",
    "print(f'Recall: {recall * 100:.2f}%')\n",
    "print(f'F1-Score: {f1 * 100:.2f}%')\n"
   ]
  },
  {
   "cell_type": "code",
   "execution_count": 13,
   "id": "6e2e3d6c",
   "metadata": {
    "execution": {
     "iopub.execute_input": "2023-10-16T10:19:30.558145Z",
     "iopub.status.busy": "2023-10-16T10:19:30.557857Z",
     "iopub.status.idle": "2023-10-16T10:19:30.565657Z",
     "shell.execute_reply": "2023-10-16T10:19:30.564862Z"
    },
    "papermill": {
     "duration": 0.018663,
     "end_time": "2023-10-16T10:19:30.567403",
     "exception": false,
     "start_time": "2023-10-16T10:19:30.548740",
     "status": "completed"
    },
    "tags": []
   },
   "outputs": [
    {
     "name": "stdout",
     "output_type": "stream",
     "text": [
      "Confusion Matrix:\n",
      "[[1 4]\n",
      " [0 9]]\n"
     ]
    }
   ],
   "source": [
    "\n",
    "# Generate a confusion matrix\n",
    "confusion = confusion_matrix(y_test, y_pred)\n",
    "print('Confusion Matrix:')\n",
    "print(confusion)"
   ]
  },
  {
   "cell_type": "code",
   "execution_count": 14,
   "id": "c73c3d8f",
   "metadata": {
    "execution": {
     "iopub.execute_input": "2023-10-16T10:19:30.585731Z",
     "iopub.status.busy": "2023-10-16T10:19:30.585213Z",
     "iopub.status.idle": "2023-10-16T10:19:30.589544Z",
     "shell.execute_reply": "2023-10-16T10:19:30.588764Z"
    },
    "papermill": {
     "duration": 0.015277,
     "end_time": "2023-10-16T10:19:30.591350",
     "exception": false,
     "start_time": "2023-10-16T10:19:30.576073",
     "status": "completed"
    },
    "tags": []
   },
   "outputs": [],
   "source": [
    "import pickle"
   ]
  },
  {
   "cell_type": "code",
   "execution_count": 15,
   "id": "c25da68d",
   "metadata": {
    "execution": {
     "iopub.execute_input": "2023-10-16T10:19:30.609585Z",
     "iopub.status.busy": "2023-10-16T10:19:30.608812Z",
     "iopub.status.idle": "2023-10-16T10:19:31.552673Z",
     "shell.execute_reply": "2023-10-16T10:19:31.551703Z"
    },
    "papermill": {
     "duration": 0.955114,
     "end_time": "2023-10-16T10:19:31.554738",
     "exception": false,
     "start_time": "2023-10-16T10:19:30.599624",
     "status": "completed"
    },
    "tags": []
   },
   "outputs": [],
   "source": [
    "pickle.dump(model,open(\"hajnaco\",\"wb\"))"
   ]
  },
  {
   "cell_type": "code",
   "execution_count": null,
   "id": "428e7c78",
   "metadata": {
    "papermill": {
     "duration": 0.008351,
     "end_time": "2023-10-16T10:19:31.571824",
     "exception": false,
     "start_time": "2023-10-16T10:19:31.563473",
     "status": "completed"
    },
    "tags": []
   },
   "outputs": [],
   "source": []
  }
 ],
 "metadata": {
  "kernelspec": {
   "display_name": "Python 3",
   "language": "python",
   "name": "python3"
  },
  "language_info": {
   "codemirror_mode": {
    "name": "ipython",
    "version": 3
   },
   "file_extension": ".py",
   "mimetype": "text/x-python",
   "name": "python",
   "nbconvert_exporter": "python",
   "pygments_lexer": "ipython3",
   "version": "3.10.12"
  },
  "papermill": {
   "default_parameters": {},
   "duration": 34.406124,
   "end_time": "2023-10-16T10:19:34.894923",
   "environment_variables": {},
   "exception": null,
   "input_path": "__notebook__.ipynb",
   "output_path": "__notebook__.ipynb",
   "parameters": {},
   "start_time": "2023-10-16T10:19:00.488799",
   "version": "2.4.0"
  }
 },
 "nbformat": 4,
 "nbformat_minor": 5
}
